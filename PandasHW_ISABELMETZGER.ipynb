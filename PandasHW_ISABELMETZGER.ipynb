{
 "cells": [
  {
   "cell_type": "markdown",
   "metadata": {},
   "source": [
    "# Pandas and Matplotlib Homework"
   ]
  },
  {
   "cell_type": "code",
   "execution_count": null,
   "metadata": {
    "collapsed": true
   },
   "outputs": [],
   "source": [
    "# load the libraries using the normal convention\n",
    "import pandas as pd\n",
    "import numpy as np\n",
    "import matplotlib.pyplot as plt\n",
    "# prevent plotting errors\n",
    "%matplotlib inline"
   ]
  },
  {
   "cell_type": "code",
   "execution_count": null,
   "metadata": {
    "collapsed": false
   },
   "outputs": [],
   "source": [
    "# Load our excel files of interest into pandas\n",
    "NHL_Goalies = pd.read_excel('NHLGoalies2016_2017.xls', na_values='', sheetname=0) \n",
    "GAA_ = pd.read_excel('NHLGoalies2016_2017.xls', na_values='', sheetname='5vs5')"
   ]
  },
  {
   "cell_type": "markdown",
   "metadata": {},
   "source": [
    "#Appendix:\n",
    " 1. DF = Pandas DataFrame\n",
    " 2. NHL_Goalies DF = NHL_Goalies \n",
    " 3. GAA_ DF = GAA_"
   ]
  },
  {
   "cell_type": "markdown",
   "metadata": {
    "collapsed": false
   },
   "source": [
    "### Q1A) Create a new DF (*called NHL_Ones*) by:\n",
    "#### Filtering the correct DF for Goalies that played 1 game <font color='red'> (GP = Games played)</font>"
   ]
  },
  {
   "cell_type": "markdown",
   "metadata": {},
   "source": [
    "Notes: How would you find the 'GP' column in these files? Review 1st Pandas Lecture"
   ]
  },
  {
   "cell_type": "code",
   "execution_count": null,
   "metadata": {
    "collapsed": false
   },
   "outputs": [],
   "source": [
    "# QUESTION 1A\n",
    "# print(NHL_Goalies.shape) # 95 rows, 111 columns (95, 111)\n",
    "# print(NHL_Goalies.get('GP', default=None))    # to look at the column\n",
    "NHL_Ones = pd.DataFrame(NHL_Goalies[NHL_Goalies['GP'] == 1])  # answer to Q1; locates rows with GP values = 1\n",
    "# print(NHL_Ones.shape)   # 15 rows, 111 columns (15, 111)\n",
    "print(NHL_Ones)     # to see what it looks like"
   ]
  },
  {
   "cell_type": "markdown",
   "metadata": {
    "collapsed": true
   },
   "source": [
    " ## Q1B) \n",
    " #### A. Find the value of the minimum Salary for the entire dataset \n",
    " #### B. Replace the missing values from the NHL_Ones DF with this\n",
    " #### C. Create a new DF after replacement by **adding** a column called  \"Adjusted_Salary\"\n",
    " #### D. I would like to only see the old \"Salary\" column and the \"Adjusted Salary\" column from the new Dataframe"
   ]
  },
  {
   "cell_type": "markdown",
   "metadata": {},
   "source": [
    "#### Notes:\n",
    "1. Note where the minimum Salary value is coming & where you are going to assign it to\n",
    "2. Review pandas **replacement** from 2nd Pandas lecture\n",
    "3. Look up Numpy definition for null\n",
    "4. Look up Pandas **Series** Naming \n",
    "5. Review concat function in Pandas\n",
    "6. Review how to slice columns"
   ]
  },
  {
   "cell_type": "code",
   "execution_count": null,
   "metadata": {
    "collapsed": false
   },
   "outputs": [],
   "source": [
    "# QUESTION 1B\n",
    "# salary = NHL_Goalies.get('Salary', default=None)\n",
    "# print(salary)\n",
    "# salary1 = NHL_Ones.loc[:, 'Salary']\n",
    "# print(salary1)\n",
    "# print(min(NHL_Goalies['Salary']))   # to find the minimum (575000.0); minimum is coming from NHL_Goalies\n",
    "Adjusted_NHL_Ones = pd.DataFrame(NHL_Ones)      # creates new df with information from NHL_Ones\n",
    "Adjusted_NHL_Ones.loc[:, 'Adjusted Salary'] = Adjusted_NHL_Ones['Salary']\n",
    "Adjusted_NHL_Ones['Adjusted Salary'].fillna((min(NHL_Goalies['Salary'])), inplace=True)     # fills/changes NaN with min\n",
    "print(Adjusted_NHL_Ones[['Salary', 'Adjusted Salary']])     # multiple columns as described in Lec 7; printed 2 columns\n",
    "# print(Adjusted_NHL_Ones.shape)      # 15 rows, 112 columns; to see what the shape is and that it had 112 columns"
   ]
  },
  {
   "cell_type": "markdown",
   "metadata": {
    "collapsed": true
   },
   "source": [
    "### Q2) A. Subset the NHL goalies data to include Goalies that played in more than 25 games AND have a GAA lower than 3.00 and store the New DF as 'workhorse'\n"
   ]
  },
  {
   "cell_type": "markdown",
   "metadata": {},
   "source": [
    "Notes: \n",
    "1. Review notes from 1st Pandas Lecture on creating masks\n",
    "2. Internet search for Multiple Boolean indexing on multiple columns in a Pandas DataFrame"
   ]
  },
  {
   "cell_type": "code",
   "execution_count": null,
   "metadata": {
    "collapsed": false
   },
   "outputs": [],
   "source": [
    "# QUESTION 2\n",
    "workhorse = pd.DataFrame(NHL_Goalies[(NHL_Goalies['GP'] > 25) & (NHL_Goalies['GAA'] < 3)])\n",
    "# print(workhorse.shape)  # (44, 111), done to check num of col = 111\n",
    "# print(workhorse[['GP', 'GAA']])   # this was done to double check that criteria was met"
   ]
  },
  {
   "cell_type": "markdown",
   "metadata": {
    "collapsed": false
   },
   "source": [
    "### Q3. Create 2 python functions that: \n",
    "<br> </br>\n",
    "#### A. Creates/*Returns* a new DataFrame that displays the number of missing values in every column. \n",
    "#### This new DataFrame has one new column named \"Missing\" with the sum of the missing values from the columns"
   ]
  },
  {
   "cell_type": "markdown",
   "metadata": {},
   "source": [
    "### Notes \n",
    "***Function takes one argument: An input DataFrame***\n",
    "<br> </br>\n",
    "<br> </br>\n",
    "** One Proposed method:**\n",
    "1. Create a pandas series object from the sum of the nulls in every column (review class notes)\n",
    "2. Convert the series object to a DataFrame and pass the list of column names from the input DataFrame as the index. (read Pandas Help online)\n",
    "3. During the conversion of the series object to a DataFrame pass a columns argument to create a name for the new Output DataFrame's Column."
   ]
  },
  {
   "cell_type": "markdown",
   "metadata": {},
   "source": [
    "### Expected Output:\n",
    "<img src='Missing_cols_expectedoutput.png'>"
   ]
  },
  {
   "cell_type": "code",
   "execution_count": null,
   "metadata": {
    "collapsed": true
   },
   "outputs": [],
   "source": [
    "# QUESTION 3A\n",
    "\n",
    "\n",
    "def sum_missing_col_val(data_f):  # defining function for sum of missing col\n",
    "    df_input = data_f   # renaming variable\n",
    "    missing_col_sums = df_input.isnull().sum(axis=0)    # creates Pandas series of col names as index & missing sums\n",
    "    print(type(missing_col_sums), '\\n', missing_col_sums.index.values)   # to look at type and series index\n",
    "    series_to_df = missing_col_sums.to_frame()   # converts series to df\n",
    "    series_to_df.columns = ['Missing']  # assigns 'Missing' to the column\n",
    "    # print(type(series_to_df))   # check type is df, <class 'pandas.core.frame.DataFrame'>\n",
    "    # print(series_to_df.index.values)    # to look at val of df index\n",
    "    return series_to_df\n",
    "\n",
    "print(sum_missing_col_val(NHL_Goalies))     # to check that function was working"
   ]
  },
  {
   "cell_type": "markdown",
   "metadata": {},
   "source": [
    "#### B. Creates a new *column* called 'missing_values' in the input DF that sums the missing values in each row."
   ]
  },
  {
   "cell_type": "markdown",
   "metadata": {
    "collapsed": true
   },
   "source": [
    "### Notes: \n",
    "***Function takes one argument: An input DataFrame***\n",
    "<br> </br>\n",
    "<br> </br>\n",
    "Review the Column creation method in lecture one and the axis arguments needed"
   ]
  },
  {
   "cell_type": "markdown",
   "metadata": {},
   "source": [
    "### Expected Output:\n",
    "<img src= 'missingrows_expectedoutput.png'>"
   ]
  },
  {
   "cell_type": "code",
   "execution_count": null,
   "metadata": {
    "collapsed": false
   },
   "outputs": [],
   "source": [
    "# QUESTION 3B\n",
    "\n",
    "\n",
    "def sum_missing_val_row(data_frame):    # defines function for data_frame that is the input df\n",
    "        input_df = data_frame   # defining what the variable is\n",
    "        missing_val_row = input_df.isnull().sum(axis=1)     # makes series of sums of missing val by row (axis=1)\n",
    "        new_df = pd.DataFrame(input_df)     # copying input df and calling it new df\n",
    "        new_df.loc[:, 'missing_values'] = missing_val_row    # adding new column with sums\n",
    "        return new_df\n",
    "\n",
    "# print(sum_missing_val_row(NHL_Ones))   # done to check if functioning and it is"
   ]
  },
  {
   "cell_type": "markdown",
   "metadata": {
    "collapsed": true
   },
   "source": [
    "### Q4) Matplotlib Question Plot in one figure and 2 side by side plots:\n",
    "<br> </br>\n",
    "#### A. Plot the histogram of the all the GAA of the NHL_Goalies DF  AND the goalies that played in more than 25 games with a GAA < 3.00, \n",
    "#### B. Label the Titles of the plots differently (*ie EntireSet + Subset*)\n",
    "#### C. Change the color of one of the plots from the default"
   ]
  },
  {
   "cell_type": "markdown",
   "metadata": {},
   "source": [
    "# Notes\n",
    "\n",
    "1. convert your column of interest into a NumPY array (look up online for usage)\n",
    "2. Review: https://matplotlib.org/devdocs/api/_as_gen/matplotlib.pyplot.hist.html\n",
    "3. Review the second lecture"
   ]
  },
  {
   "cell_type": "code",
   "execution_count": null,
   "metadata": {
    "collapsed": false
   },
   "outputs": [],
   "source": [
    "plt.figure(1)   # plotting figure 1\n",
    "width = 16  # setting width\n",
    "height = 8  # setting height\n",
    "plt.figure(figsize=(width, height))     # applying width and height to fig\n",
    "ax = plt.subplot(121)   # creating first subplot, 1 row, 2 columns, 1st subplot\n",
    "NHL_Goalies['GAA'].plot.hist(histtype='bar', color='m', edgecolor='k', linewidth=1.2)   # creating histogram and appearance\n",
    "plt.xlabel('GAA values of all NHL Goalies', fontsize=14)    # adding x and y labels\n",
    "plt.ylabel('Frequency of GAA values', fontsize=14)\n",
    "ax.set_title('Histogram of GAA values of NHL Goalies', fontsize=16)\n",
    "ax = plt.subplot(122)   # second subplot, 1 row, 2 columns, 2nd subplot\n",
    "workhorse['GAA'].plot.hist(histtype='bar', color='c', edgecolor='k', linewidth=1.2)     \n",
    "# creating histogram of second subplot\n",
    "ax.set_title('Histogram of GAA values of Goalies with GAA<3 and GP>25', fontsize=16)   \n",
    "plt.subplots_adjust(left=None, bottom=None, right=None, top=None, wspace=None, hspace=0.5)  \n",
    "# creating dimensions of subplots within fig\n",
    "plt.xlabel('GAA values of NHL Goalies w/ GAA<3 and GP>25', fontsize=14)     # x and y labels of second subplot\n",
    "plt.ylabel('Frequency of GAA values', fontsize=14)"
   ]
  },
  {
   "cell_type": "markdown",
   "metadata": {
    "collapsed": true
   },
   "source": [
    "### Q5) GroupBy Question\n",
    "##### 1. Subset the NHL_Goalies DataFrame where Injuries is not known <font color='red'>(Injuries=NaN)</font>; \n",
    "##### 2. Use a Merge with the GAA_  DF to produce a NEW DF (*called mergedDF*) \n",
    "###### *** USE A JOIN THAT PRESERVES ORDER AND USES THE INTERSECTION OF KEYS***\n",
    "###### *** USE BOTH THE LEFT AND RIGHT INDEXES AS JOIN KEYS***\n",
    "##### 3. From the mergedDF keep FirstName/LastName/Team/Cntry/ SV% /GA/GAA/ TOI (note one copy for any duplicate column)\n",
    "##### 4. GroupBy country on mergedDF and aggregate The Means, Mins, and Maximum of the kept columns\n",
    "#### 5. Create a dataframe of the <font color='red'>TOI </font>groupby object and write it to a comma seperated value file called ('TOI_2017.csv')"
   ]
  },
  {
   "cell_type": "markdown",
   "metadata": {},
   "source": [
    "## Notes:\n",
    "\n",
    "1. Review how to create selection criteria and how aggs/joins work from the second lecture;\n",
    "2. Remember our class discussion on the presence of suffixes; and why they occur\n",
    "2. https://pandas.pydata.org/pandas-docs/stable/generated/pandas.DataFrame.to_csv.html\n",
    "3. https://stackoverflow.com/questions/14734533/how-to-access-pandas-groupby-dataframe-by-key\n",
    "4. https://pandas.pydata.org/pandas-docs/stable/generated/pandas.Series.get.html"
   ]
  },
  {
   "cell_type": "code",
   "execution_count": null,
   "metadata": {
    "collapsed": false
   },
   "outputs": [],
   "source": [
    "#Answer 5 here: please comments"
   ]
  },
  {
   "cell_type": "markdown",
   "metadata": {},
   "source": [
    "***For any questions regarding this assignment please email SAMSON: <br> </br><font color='green'>sjacob210@gmail.com ***</font>"
   ]
  }
 ],
 "metadata": {
  "kernelspec": {
   "display_name": "Python 2",
   "language": "python",
   "name": "python2"
  },
  "language_info": {
   "codemirror_mode": {
    "name": "ipython",
    "version": 2.0
   },
   "file_extension": ".py",
   "mimetype": "text/x-python",
   "name": "python",
   "nbconvert_exporter": "python",
   "pygments_lexer": "ipython2",
   "version": "2.7.13"
  }
 },
 "nbformat": 4,
 "nbformat_minor": 0
}